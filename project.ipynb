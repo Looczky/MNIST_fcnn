{
 "cells": [
  {
   "cell_type": "markdown",
   "metadata": {},
   "source": [
    "# 1. Imports"
   ]
  },
  {
   "cell_type": "code",
   "execution_count": 2,
   "metadata": {},
   "outputs": [],
   "source": [
    "import torch\n",
    "import torchvision\n",
    "import torch.nn as nn\n",
    "from torchvision import datasets, transforms\n",
    "import matplotlib.pyplot as plt\n",
    "from torch.utils.data import DataLoader, random_split\n",
    "import numpy as np"
   ]
  },
  {
   "cell_type": "markdown",
   "metadata": {},
   "source": [
    "# 2. Data "
   ]
  },
  {
   "cell_type": "markdown",
   "metadata": {},
   "source": [
    "## 2.1 Loaders"
   ]
  },
  {
   "cell_type": "markdown",
   "metadata": {},
   "source": [
    "### 2.1.1 MNIST Data"
   ]
  },
  {
   "cell_type": "code",
   "execution_count": 3,
   "metadata": {},
   "outputs": [],
   "source": [
    "transform = transforms.Compose([transforms.ToTensor(),\n",
    "    transforms.Normalize((0.5,),(0.5,)),\n",
    "    ])\n",
    "batch_size = 64\n",
    "\n",
    "datasets_save_dir = 'Data/'\n",
    "\n",
    "train_data = datasets.MNIST(root=datasets_save_dir,download=True,train=True, \n",
    "    transform=transform)\n",
    "test_data = datasets.MNIST(root=datasets_save_dir,download=True,train=False, \n",
    "    transform=transform)\n",
    "\n",
    "all_train_size = len(train_data)\n",
    "little_train_size = int(0.8 * all_train_size)\n",
    "val_size = all_train_size - little_train_size\n",
    "\n",
    "little_train_dataset, val_dataset = random_split(train_data, [little_train_size, val_size])\n",
    "\n",
    "little_train_dataloader = DataLoader(little_train_dataset,batch_size=batch_size,\n",
    "    shuffle=True)\n",
    "val_dataloader = DataLoader(val_dataset,batch_size,shuffle=True)\n",
    "test_dataloader = DataLoader(test_data,batch_size=batch_size,shuffle=True)\n",
    "train_dataloader = DataLoader(test_data,batch_size=batch_size,shuffle=True)"
   ]
  },
  {
   "cell_type": "markdown",
   "metadata": {},
   "source": [
    "### 2.1.2 Subsets"
   ]
  },
  {
   "cell_type": "code",
   "execution_count": 4,
   "metadata": {},
   "outputs": [],
   "source": [
    "subset_sizes = [1000*i for i in range(1,6)] \n",
    "\n",
    "subset_loaders = []\n",
    "for subset_size in subset_sizes:\n",
    "    subset, _ = random_split(little_train_dataset, [subset_size, little_train_size  - subset_size])\n",
    "    subset_loader = DataLoader(subset, batch_size=batch_size, shuffle=True)\n",
    "    subset_loaders.append(subset_loader)"
   ]
  },
  {
   "cell_type": "markdown",
   "metadata": {},
   "source": [
    "## 2.2 Data shape"
   ]
  },
  {
   "cell_type": "code",
   "execution_count": 4,
   "metadata": {},
   "outputs": [
    {
     "name": "stdout",
     "output_type": "stream",
     "text": [
      "torch.Size([64, 1, 28, 28])\n",
      "torch.Size([64])\n"
     ]
    }
   ],
   "source": [
    "for images, labels in little_train_dataloader:\n",
    "    print(images.shape)\n",
    "    print(labels.shape)\n",
    "    break"
   ]
  },
  {
   "cell_type": "markdown",
   "metadata": {},
   "source": [
    "# 3. Model"
   ]
  },
  {
   "cell_type": "code",
   "execution_count": 5,
   "metadata": {},
   "outputs": [],
   "source": [
    "class Fcnn(nn.Module):\n",
    "    def __init__(self):\n",
    "        super().__init__()\n",
    "\n",
    "        self.block_1 = nn.Sequential(\n",
    "            nn.Linear(28*28,256),\n",
    "            nn.ReLU(),\n",
    "            nn.Linear(256,64),\n",
    "            nn.ReLU(),\n",
    "            nn.Linear(64,10),\n",
    "            nn.Softmax()\n",
    "        )\n",
    "\n",
    "    def forward(self,x):\n",
    "        x = self.block_1(x)\n",
    "        return x\n",
    "    \n",
    "\n",
    "    def weights_normal(self,mean,std):\n",
    "        for m in self.modules():\n",
    "            if isinstance(m, nn.Linear):\n",
    "                nn.init.normal_(m.weight, mean=mean, std=std) \n",
    "                if m.bias is not None:\n",
    "                    nn.init.constant_(m.bias, 0.0)\n",
    "\n",
    "    def weights_ones(self):\n",
    "        for m in self.modules():\n",
    "            if isinstance(m, nn.Linear):\n",
    "                nn.init.ones_(m.weight) \n",
    "                if m.bias is not None:\n",
    "                    nn.init.constant_(m.bias, 0.0)"
   ]
  },
  {
   "cell_type": "markdown",
   "metadata": {},
   "source": [
    "# 4. Training"
   ]
  },
  {
   "cell_type": "code",
   "execution_count": 6,
   "metadata": {},
   "outputs": [],
   "source": [
    "def train(epochs:int,model,optimizer,criterion,data):\n",
    "    model.train()\n",
    "    loss_history = []\n",
    "    for epoch in range(epochs):\n",
    "        batch_loss = []\n",
    "        for batch, (images,labels) in enumerate(data):\n",
    "            images = images.view(images.shape[0],-1)\n",
    "\n",
    "            optimizer.zero_grad()\n",
    "            \n",
    "            output = model(images)\n",
    "\n",
    "            loss = criterion(output,labels) \n",
    "            loss.backward()\n",
    "\n",
    "            optimizer.step()\n",
    "            \n",
    "            batch_loss.append(loss.item())\n",
    "            if (batch+1) % 100 == 0:\n",
    "                print(f'epoch: {epoch+1}, step: {batch+1}/{len(data)}, loss: {loss.item():.4f}')\n",
    "        avg_batch_loss = sum(batch_loss)/len(batch_loss)\n",
    "        loss_history.append(avg_batch_loss)\n",
    "            \n",
    "    print('Finished training!')\n",
    "    return loss_history"
   ]
  },
  {
   "cell_type": "code",
   "execution_count": 7,
   "metadata": {},
   "outputs": [
    {
     "name": "stderr",
     "output_type": "stream",
     "text": [
      "c:\\Users\\Komputer\\AppData\\Local\\Programs\\Python\\Python311\\Lib\\site-packages\\torch\\nn\\modules\\module.py:1518: UserWarning: Implicit dimension choice for softmax has been deprecated. Change the call to include dim=X as an argument.\n",
      "  return self._call_impl(*args, **kwargs)\n"
     ]
    },
    {
     "name": "stdout",
     "output_type": "stream",
     "text": [
      "epoch: 1, step: 100/750, loss: 1.7551\n",
      "epoch: 1, step: 200/750, loss: 1.7521\n",
      "epoch: 1, step: 300/750, loss: 1.6713\n",
      "epoch: 1, step: 400/750, loss: 1.6650\n",
      "epoch: 1, step: 500/750, loss: 1.6125\n",
      "epoch: 1, step: 600/750, loss: 1.7263\n",
      "epoch: 1, step: 700/750, loss: 1.6521\n",
      "epoch: 2, step: 100/750, loss: 1.5841\n",
      "epoch: 2, step: 200/750, loss: 1.5871\n",
      "epoch: 2, step: 300/750, loss: 1.5459\n",
      "epoch: 2, step: 400/750, loss: 1.5912\n",
      "epoch: 2, step: 500/750, loss: 1.5367\n",
      "epoch: 2, step: 600/750, loss: 1.5696\n",
      "epoch: 2, step: 700/750, loss: 1.5383\n",
      "epoch: 3, step: 100/750, loss: 1.5850\n",
      "epoch: 3, step: 200/750, loss: 1.5788\n",
      "epoch: 3, step: 300/750, loss: 1.5134\n",
      "epoch: 3, step: 400/750, loss: 1.5680\n",
      "epoch: 3, step: 500/750, loss: 1.5211\n",
      "epoch: 3, step: 600/750, loss: 1.5752\n",
      "epoch: 3, step: 700/750, loss: 1.4988\n",
      "epoch: 4, step: 100/750, loss: 1.5504\n",
      "epoch: 4, step: 200/750, loss: 1.5668\n",
      "epoch: 4, step: 300/750, loss: 1.5348\n",
      "epoch: 4, step: 400/750, loss: 1.4934\n",
      "epoch: 4, step: 500/750, loss: 1.5098\n",
      "epoch: 4, step: 600/750, loss: 1.5126\n",
      "epoch: 4, step: 700/750, loss: 1.5233\n",
      "epoch: 5, step: 100/750, loss: 1.5054\n",
      "epoch: 5, step: 200/750, loss: 1.4924\n",
      "epoch: 5, step: 300/750, loss: 1.4801\n",
      "epoch: 5, step: 400/750, loss: 1.5457\n",
      "epoch: 5, step: 500/750, loss: 1.4883\n",
      "epoch: 5, step: 600/750, loss: 1.4837\n",
      "epoch: 5, step: 700/750, loss: 1.5099\n",
      "epoch: 6, step: 100/750, loss: 1.5473\n",
      "epoch: 6, step: 200/750, loss: 1.4789\n",
      "epoch: 6, step: 300/750, loss: 1.4801\n",
      "epoch: 6, step: 400/750, loss: 1.4920\n",
      "epoch: 6, step: 500/750, loss: 1.5014\n",
      "epoch: 6, step: 600/750, loss: 1.4954\n",
      "epoch: 6, step: 700/750, loss: 1.5087\n",
      "epoch: 7, step: 100/750, loss: 1.5054\n",
      "epoch: 7, step: 200/750, loss: 1.4987\n",
      "epoch: 7, step: 300/750, loss: 1.5099\n",
      "epoch: 7, step: 400/750, loss: 1.4767\n",
      "epoch: 7, step: 500/750, loss: 1.5093\n",
      "epoch: 7, step: 600/750, loss: 1.4801\n",
      "epoch: 7, step: 700/750, loss: 1.5256\n",
      "epoch: 8, step: 100/750, loss: 1.4805\n",
      "epoch: 8, step: 200/750, loss: 1.5089\n",
      "epoch: 8, step: 300/750, loss: 1.5232\n",
      "epoch: 8, step: 400/750, loss: 1.4904\n",
      "epoch: 8, step: 500/750, loss: 1.4789\n",
      "epoch: 8, step: 600/750, loss: 1.4923\n",
      "epoch: 8, step: 700/750, loss: 1.5110\n",
      "Finished training!\n"
     ]
    }
   ],
   "source": [
    "model_1 = Fcnn()\n",
    "epochs = 8\n",
    "optimizer = torch.optim.Adam(model_1.parameters())\n",
    "criterion = nn.CrossEntropyLoss()\n",
    "\n",
    "loss_history_1 = train(epochs, model_1, optimizer, criterion, little_train_dataloader)"
   ]
  },
  {
   "cell_type": "markdown",
   "metadata": {},
   "source": [
    "# 5. Testing"
   ]
  },
  {
   "cell_type": "code",
   "execution_count": 7,
   "metadata": {},
   "outputs": [],
   "source": [
    "def test(model, dataloader):\n",
    "    model.eval()\n",
    "    correct = 0\n",
    "    with torch.no_grad():\n",
    "        for batch, (images,labels) in enumerate(dataloader):\n",
    "            images = images.view(images.shape[0],-1)\n",
    "\n",
    "            output = model(images)\n",
    "            pred = output.data.max(1,keepdim=True)[1]\n",
    "            \n",
    "            labels = labels.data.view_as(pred)\n",
    "            correct += pred.eq(labels).sum()\n",
    "    accuracy = correct/len(dataloader.dataset)\n",
    "    print(f'Accuracy: {accuracy:.3f}')\n",
    "    return accuracy\n"
   ]
  },
  {
   "cell_type": "code",
   "execution_count": 9,
   "metadata": {},
   "outputs": [
    {
     "name": "stdout",
     "output_type": "stream",
     "text": [
      "Accuracy: 0.951\n"
     ]
    }
   ],
   "source": [
    "accuracy_1 = test(model_1, test_dataloader)"
   ]
  },
  {
   "cell_type": "markdown",
   "metadata": {},
   "source": [
    "# 6. Weight initialization"
   ]
  },
  {
   "cell_type": "markdown",
   "metadata": {},
   "source": [
    "## 6.1 Large weights"
   ]
  },
  {
   "cell_type": "code",
   "execution_count": 10,
   "metadata": {},
   "outputs": [
    {
     "name": "stdout",
     "output_type": "stream",
     "text": [
      "epoch: 1, step: 100/750, loss: 2.3025\n",
      "epoch: 1, step: 200/750, loss: 2.3024\n",
      "epoch: 1, step: 300/750, loss: 2.3025\n",
      "epoch: 1, step: 400/750, loss: 2.3033\n",
      "epoch: 1, step: 500/750, loss: 2.3020\n",
      "epoch: 1, step: 600/750, loss: 2.3014\n",
      "epoch: 1, step: 700/750, loss: 2.3019\n",
      "epoch: 2, step: 100/750, loss: 2.3009\n",
      "epoch: 2, step: 200/750, loss: 2.2990\n",
      "epoch: 2, step: 300/750, loss: 2.3019\n",
      "epoch: 2, step: 400/750, loss: 2.3015\n",
      "epoch: 2, step: 500/750, loss: 2.2996\n",
      "epoch: 2, step: 600/750, loss: 2.3031\n",
      "epoch: 2, step: 700/750, loss: 2.3028\n",
      "epoch: 3, step: 100/750, loss: 2.3015\n",
      "epoch: 3, step: 200/750, loss: 2.3022\n",
      "epoch: 3, step: 300/750, loss: 2.3002\n",
      "epoch: 3, step: 400/750, loss: 2.3045\n",
      "epoch: 3, step: 500/750, loss: 2.3032\n",
      "epoch: 3, step: 600/750, loss: 2.3040\n",
      "epoch: 3, step: 700/750, loss: 2.2938\n",
      "epoch: 4, step: 100/750, loss: 2.3017\n",
      "epoch: 4, step: 200/750, loss: 2.2933\n",
      "epoch: 4, step: 300/750, loss: 2.3027\n",
      "epoch: 4, step: 400/750, loss: 2.3004\n",
      "epoch: 4, step: 500/750, loss: 2.2967\n",
      "epoch: 4, step: 600/750, loss: 2.2977\n",
      "epoch: 4, step: 700/750, loss: 2.3052\n",
      "epoch: 5, step: 100/750, loss: 2.2993\n",
      "epoch: 5, step: 200/750, loss: 2.2989\n",
      "epoch: 5, step: 300/750, loss: 2.2968\n",
      "epoch: 5, step: 400/750, loss: 2.3021\n",
      "epoch: 5, step: 500/750, loss: 2.3048\n",
      "epoch: 5, step: 600/750, loss: 2.2979\n",
      "epoch: 5, step: 700/750, loss: 2.2990\n",
      "epoch: 6, step: 100/750, loss: 2.3054\n",
      "epoch: 6, step: 200/750, loss: 2.2997\n",
      "epoch: 6, step: 300/750, loss: 2.3048\n",
      "epoch: 6, step: 400/750, loss: 2.3085\n",
      "epoch: 6, step: 500/750, loss: 2.2976\n",
      "epoch: 6, step: 600/750, loss: 2.3019\n",
      "epoch: 6, step: 700/750, loss: 2.2941\n",
      "epoch: 7, step: 100/750, loss: 2.3053\n",
      "epoch: 7, step: 200/750, loss: 2.2937\n",
      "epoch: 7, step: 300/750, loss: 2.3039\n",
      "epoch: 7, step: 400/750, loss: 2.3051\n",
      "epoch: 7, step: 500/750, loss: 2.3044\n",
      "epoch: 7, step: 600/750, loss: 2.2996\n",
      "epoch: 7, step: 700/750, loss: 2.3021\n",
      "epoch: 8, step: 100/750, loss: 2.3036\n",
      "epoch: 8, step: 200/750, loss: 2.3056\n",
      "epoch: 8, step: 300/750, loss: 2.2995\n",
      "epoch: 8, step: 400/750, loss: 2.2979\n",
      "epoch: 8, step: 500/750, loss: 2.3049\n",
      "epoch: 8, step: 600/750, loss: 2.3029\n",
      "epoch: 8, step: 700/750, loss: 2.3112\n",
      "Finished training!\n"
     ]
    }
   ],
   "source": [
    "model_2 = Fcnn()\n",
    "optimizer = torch.optim.Adam(model_2.parameters())\n",
    "model_2.weights_normal(mean=1000, std=20)\n",
    "\n",
    "loss_history_2 = train(epochs, model_2, optimizer, criterion, little_train_dataloader)"
   ]
  },
  {
   "cell_type": "code",
   "execution_count": 11,
   "metadata": {},
   "outputs": [
    {
     "name": "stdout",
     "output_type": "stream",
     "text": [
      "Accuracy: 0.113\n"
     ]
    }
   ],
   "source": [
    "accuracy_2 = test(model_2, test_dataloader)"
   ]
  },
  {
   "cell_type": "markdown",
   "metadata": {},
   "source": [
    "## 6.2 All weights set to 1"
   ]
  },
  {
   "cell_type": "code",
   "execution_count": 12,
   "metadata": {},
   "outputs": [
    {
     "name": "stdout",
     "output_type": "stream",
     "text": [
      "epoch: 1, step: 100/750, loss: 2.3025\n",
      "epoch: 1, step: 200/750, loss: 2.3027\n",
      "epoch: 1, step: 300/750, loss: 2.3030\n",
      "epoch: 1, step: 400/750, loss: 2.3022\n",
      "epoch: 1, step: 500/750, loss: 2.3018\n",
      "epoch: 1, step: 600/750, loss: 2.3019\n",
      "epoch: 1, step: 700/750, loss: 2.3025\n",
      "epoch: 2, step: 100/750, loss: 2.3040\n",
      "epoch: 2, step: 200/750, loss: 2.3032\n",
      "epoch: 2, step: 300/750, loss: 2.3026\n",
      "epoch: 2, step: 400/750, loss: 2.2996\n",
      "epoch: 2, step: 500/750, loss: 2.3020\n",
      "epoch: 2, step: 600/750, loss: 2.3015\n",
      "epoch: 2, step: 700/750, loss: 2.3043\n",
      "epoch: 3, step: 100/750, loss: 2.2983\n",
      "epoch: 3, step: 200/750, loss: 2.2971\n",
      "epoch: 3, step: 300/750, loss: 2.3029\n",
      "epoch: 3, step: 400/750, loss: 2.2998\n",
      "epoch: 3, step: 500/750, loss: 2.3005\n",
      "epoch: 3, step: 600/750, loss: 2.3057\n",
      "epoch: 3, step: 700/750, loss: 2.3015\n",
      "epoch: 4, step: 100/750, loss: 2.2981\n",
      "epoch: 4, step: 200/750, loss: 2.2951\n",
      "epoch: 4, step: 300/750, loss: 2.2995\n",
      "epoch: 4, step: 400/750, loss: 2.2980\n",
      "epoch: 4, step: 500/750, loss: 2.2942\n",
      "epoch: 4, step: 600/750, loss: 2.3011\n",
      "epoch: 4, step: 700/750, loss: 2.2996\n",
      "epoch: 5, step: 100/750, loss: 2.2991\n",
      "epoch: 5, step: 200/750, loss: 2.3057\n",
      "epoch: 5, step: 300/750, loss: 2.2966\n",
      "epoch: 5, step: 400/750, loss: 2.3029\n",
      "epoch: 5, step: 500/750, loss: 2.3049\n",
      "epoch: 5, step: 600/750, loss: 2.2987\n",
      "epoch: 5, step: 700/750, loss: 2.3051\n",
      "epoch: 6, step: 100/750, loss: 2.2944\n",
      "epoch: 6, step: 200/750, loss: 2.3064\n",
      "epoch: 6, step: 300/750, loss: 2.3002\n",
      "epoch: 6, step: 400/750, loss: 2.3071\n",
      "epoch: 6, step: 500/750, loss: 2.3023\n",
      "epoch: 6, step: 600/750, loss: 2.2987\n",
      "epoch: 6, step: 700/750, loss: 2.3041\n",
      "epoch: 7, step: 100/750, loss: 2.2950\n",
      "epoch: 7, step: 200/750, loss: 2.3053\n",
      "epoch: 7, step: 300/750, loss: 2.3028\n",
      "epoch: 7, step: 400/750, loss: 2.2955\n",
      "epoch: 7, step: 500/750, loss: 2.2947\n",
      "epoch: 7, step: 600/750, loss: 2.3096\n",
      "epoch: 7, step: 700/750, loss: 2.3038\n",
      "epoch: 8, step: 100/750, loss: 2.2996\n",
      "epoch: 8, step: 200/750, loss: 2.3054\n",
      "epoch: 8, step: 300/750, loss: 2.3046\n",
      "epoch: 8, step: 400/750, loss: 2.3021\n",
      "epoch: 8, step: 500/750, loss: 2.3037\n",
      "epoch: 8, step: 600/750, loss: 2.3008\n",
      "epoch: 8, step: 700/750, loss: 2.3074\n",
      "Finished training!\n"
     ]
    }
   ],
   "source": [
    "model_3 = Fcnn()\n",
    "optimizer = torch.optim.Adam(model_3.parameters())\n",
    "model_3.weights_ones()\n",
    "\n",
    "loss_history_3 = train(epochs, model_3, optimizer, criterion, little_train_dataloader)"
   ]
  },
  {
   "cell_type": "code",
   "execution_count": 13,
   "metadata": {},
   "outputs": [
    {
     "name": "stdout",
     "output_type": "stream",
     "text": [
      "Accuracy: 0.113\n"
     ]
    }
   ],
   "source": [
    "accuracy_3 = test(model_3, test_dataloader)"
   ]
  },
  {
   "cell_type": "markdown",
   "metadata": {},
   "source": [
    "## 6.3 Results"
   ]
  },
  {
   "cell_type": "code",
   "execution_count": 14,
   "metadata": {},
   "outputs": [
    {
     "name": "stderr",
     "output_type": "stream",
     "text": [
      "C:\\Users\\Komputer\\AppData\\Local\\Temp\\ipykernel_14892\\306140487.py:3: MatplotlibDeprecationWarning: Auto-removal of overlapping axes is deprecated since 3.6 and will be removed two minor releases later; explicitly call ax.remove() as needed.\n",
      "  plt.subplot(1, 3, 1)\n"
     ]
    },
    {
     "data": {
      "image/png": "[encoded data removed]",
      "text/plain": [
       "<Figure size 2100x500 with 3 Axes>"
      ]
     },
     "metadata": {},
     "output_type": "display_data"
    }
   ],
   "source": [
    "plt.subplots(figsize=(21, 5))\n",
    "\n",
    "plt.subplot(1, 3, 1)\n",
    "plt.plot(loss_history_1, color='green')\n",
    "plt.xlabel('Epoka')\n",
    "plt.ylabel('Wartość funkcji strat')\n",
    "plt.title('Funkcja strat pierwszego modelu')\n",
    "\n",
    "plt.subplot(1, 3, 2)\n",
    "plt.plot(loss_history_2, color='orange')\n",
    "plt.xlabel('Epoka')\n",
    "plt.ylabel('Wartość funkcji strat')\n",
    "plt.title('Funkcja strat drugiego modelu')\n",
    "\n",
    "plt.subplot(1, 3, 3)\n",
    "plt.plot(loss_history_3, color='maroon')\n",
    "plt.xlabel('Epoka')\n",
    "plt.ylabel('Wartość funkcji strat')\n",
    "plt.title('Funkcja strat trzeciego modelu')\n",
    "\n",
    "plt.show()"
   ]
  },
  {
   "cell_type": "code",
   "execution_count": 15,
   "metadata": {},
   "outputs": [
    {
     "data": {
      "image/png": "[encoded data removed]",
      "text/plain": [
       "<Figure size 640x480 with 1 Axes>"
      ]
     },
     "metadata": {},
     "output_type": "display_data"
    }
   ],
   "source": [
    "plt.bar(['Model 1', 'Model 2', 'Model 3'], [accuracy_1, accuracy_2, accuracy_3], color=['green', 'orange', 'maroon'])\n",
    "plt.title('Dokładność predykcji dokonywanych przez poszczególne modele')\n",
    "plt.ylabel('Dokładność')\n",
    "\n",
    "plt.show()"
   ]
  },
  {
   "cell_type": "markdown",
   "metadata": {},
   "source": [
    "Domyślne wagi zaimplementowane przez PyTorch (użyte w pierwszym modelu), czyli bardzo bliskie 0, działają najlepiej. Wyniki uzyskiwane przez model można wówczas uznać za satysfakcjonujące. Inicjalizacja innych wag sprawia, że wyniki predykcji modelu są bardzo dalekie od oczekiwań. Dotyczy to zarówno poprawności predykcji jak i funkcji strat."
   ]
  },
  {
   "cell_type": "markdown",
   "metadata": {},
   "source": [
    "# 7. Training on subsets of different sizes"
   ]
  },
  {
   "cell_type": "code",
   "execution_count": 18,
   "metadata": {},
   "outputs": [
    {
     "name": "stdout",
     "output_type": "stream",
     "text": [
      "Finished training!\n",
      "Accuracy: 0.674\n",
      "Accuracy: 0.654\n",
      "Finished training!\n",
      "Accuracy: 0.707\n",
      "Accuracy: 0.696\n",
      "Finished training!\n",
      "Accuracy: 0.734\n",
      "Accuracy: 0.720\n",
      "Finished training!\n",
      "Accuracy: 0.820\n",
      "Accuracy: 0.808\n",
      "Finished training!\n",
      "Accuracy: 0.815\n",
      "Accuracy: 0.809\n"
     ]
    }
   ],
   "source": [
    "subset_loss_history = []\n",
    "subset_accuracy_train = []\n",
    "subset_accuracy_test = []\n",
    "\n",
    "for subset in subset_loaders:\n",
    "    subset_model = Fcnn()\n",
    "    optimizer = torch.optim.Adam(subset_model.parameters())\n",
    "    loss_history = train(3,subset_model,optimizer,criterion,subset)\n",
    "    subset_loss_history.append(loss_history)\n",
    "\n",
    "    accuracy_test = test(subset_model,test_dataloader)\n",
    "    accuracy_train = test(subset_model,val_dataloader)\n",
    "    \n",
    "    subset_accuracy_train.append(accuracy_train)\n",
    "    subset_accuracy_test.append(accuracy_test)"
   ]
  },
  {
   "cell_type": "code",
   "execution_count": 19,
   "metadata": {},
   "outputs": [
    {
     "data": {
      "text/plain": [
       "<matplotlib.legend.Legend at 0x2662ac3f3d0>"
      ]
     },
     "execution_count": 19,
     "metadata": {},
     "output_type": "execute_result"
    },
    {
     "data": {
      "image/png": "[encoded data removed]",
      "text/plain": [
       "<Figure size 640x480 with 1 Axes>"
      ]
     },
     "metadata": {},
     "output_type": "display_data"
    }
   ],
   "source": [
    "plt.plot(subset_sizes, subset_accuracy_train, label='Zbiór treningowy', color='teal')\n",
    "plt.plot(subset_sizes, subset_accuracy_test, label='Zbiór walidacyjny', color='black')\n",
    "\n",
    "plt.xlabel('Wielkość zbioru treningowego')\n",
    "plt.ylabel('Dokładność predykcji')\n",
    "plt.title('Dokładność predykcji modelu w zależności od wielkości zbioru treningowego')\n",
    "\n",
    "plt.legend(loc='lower right')"
   ]
  },
  {
   "cell_type": "markdown",
   "metadata": {},
   "source": [
    "Na powyższym wykresie możemy zauważyć trend wzrostowy w zależności pomiędzy zwiększaniem zbioru treningowego a dokładnością predykcji modelu."
   ]
  },
  {
   "cell_type": "markdown",
   "metadata": {},
   "source": [
    "# 8. Early stopping"
   ]
  },
  {
   "cell_type": "code",
   "execution_count": 10,
   "metadata": {},
   "outputs": [],
   "source": [
    "class EarlyStopper:\n",
    "    def __init__(self, patience=1, min_delta=0):\n",
    "        self.patience = patience\n",
    "        self.min_delta = min_delta\n",
    "        self.counter = 0\n",
    "        self.min_validation_loss = float('inf')\n",
    "\n",
    "    def early_stop(self, validation_loss):\n",
    "        print(self.min_validation_loss,validation_loss,validation_loss  > (self.min_validation_loss  + self.min_delta))\n",
    "        if validation_loss < self.min_validation_loss:\n",
    "            self.min_validation_loss = validation_loss\n",
    "            self.counter = 0\n",
    "         \n",
    "        elif validation_loss > (self.min_validation_loss + self.min_delta):\n",
    "            self.counter += 1\n",
    "            if self.counter >= self.patience:\n",
    "                return True\n",
    "        return False\n",
    "    \n",
    "def train_es(epochs:int,model,optimizer,criterion,dataloader):\n",
    "    early_stopper = EarlyStopper(patience=3)\n",
    "    model.train()\n",
    "    for epoch in range(epochs):\n",
    "        batch_loss_history = []\n",
    "        for batch, (images,labels) in enumerate(dataloader):\n",
    "            images = images.view(images.shape[0],-1)\n",
    "\n",
    "            optimizer.zero_grad()\n",
    "            \n",
    "            output = model(images)\n",
    "\n",
    "            loss = criterion(output,labels)\n",
    "            loss.backward()\n",
    "\n",
    "            optimizer.step()\n",
    "            if (batch+1) % 100 == 0:\n",
    "                print(f'epoch: {epoch+1}, step: {batch+1}/{len(dataloader)} , loss: {loss.item():.4f}')\n",
    "            batch_loss_history.append(loss.item())\n",
    "        \n",
    "        epoch_avg_loss = np.average(batch_loss_history)\n",
    "\n",
    "        print(f'Epoch: {epoch+1}, avg_loss = {epoch_avg_loss}')\n",
    "        if early_stopper.early_stop(epoch_avg_loss):\n",
    "            print('Early stopping!')\n",
    "            break\n",
    "        \n",
    "    print('Finished training!')\n",
    "\n"
   ]
  },
  {
   "cell_type": "code",
   "execution_count": 21,
   "metadata": {},
   "outputs": [
    {
     "name": "stdout",
     "output_type": "stream",
     "text": [
      "epoch: 1, step: 100/157 , loss: 1.9798\n",
      "Epoch: 1, avg_loss = 2.001776066555339\n",
      "inf 2.001776066555339 False\n",
      "epoch: 2, step: 100/157 , loss: 1.6878\n",
      "Epoch: 2, avg_loss = 1.7410684603794364\n",
      "2.001776066555339 1.7410684603794364 False\n",
      "epoch: 3, step: 100/157 , loss: 1.6976\n",
      "Epoch: 3, avg_loss = 1.6457633433068635\n",
      "1.7410684603794364 1.6457633433068635 False\n",
      "epoch: 4, step: 100/157 , loss: 1.6524\n",
      "Epoch: 4, avg_loss = 1.6220722995745909\n",
      "1.6457633433068635 1.6220722995745909 False\n",
      "epoch: 5, step: 100/157 , loss: 1.6100\n",
      "Epoch: 5, avg_loss = 1.615658341699345\n",
      "1.6220722995745909 1.615658341699345 False\n",
      "epoch: 6, step: 100/157 , loss: 1.7559\n",
      "Epoch: 6, avg_loss = 1.6808992069997606\n",
      "1.615658341699345 1.6808992069997606 True\n",
      "epoch: 7, step: 100/157 , loss: 1.5742\n",
      "Epoch: 7, avg_loss = 1.6360906704216247\n",
      "1.615658341699345 1.6360906704216247 True\n",
      "epoch: 8, step: 100/157 , loss: 1.5396\n",
      "Epoch: 8, avg_loss = 1.609494409743388\n",
      "1.615658341699345 1.609494409743388 False\n",
      "epoch: 9, step: 100/157 , loss: 1.5566\n",
      "Epoch: 9, avg_loss = 1.625471282916464\n",
      "1.609494409743388 1.625471282916464 True\n",
      "epoch: 10, step: 100/157 , loss: 1.6487\n",
      "Epoch: 10, avg_loss = 1.603473640551233\n",
      "1.609494409743388 1.603473640551233 False\n",
      "epoch: 11, step: 100/157 , loss: 1.6179\n",
      "Epoch: 11, avg_loss = 1.6353332859695338\n",
      "1.603473640551233 1.6353332859695338 True\n",
      "epoch: 12, step: 100/157 , loss: 1.6677\n",
      "Epoch: 12, avg_loss = 1.6104402094130303\n",
      "1.603473640551233 1.6104402094130303 True\n",
      "epoch: 13, step: 100/157 , loss: 1.5875\n",
      "Epoch: 13, avg_loss = 1.626028388928456\n",
      "1.603473640551233 1.626028388928456 True\n",
      "Early stopping!\n",
      "Finished training!\n"
     ]
    }
   ],
   "source": [
    "epochs = 35\n",
    "\n",
    "model_4 = Fcnn()\n",
    "learning_rate = 1\n",
    "optimizer = torch.optim.SGD(model_4.parameters(),lr=learning_rate)\n",
    "\n",
    "train_es(epochs, model_4, optimizer, criterion, dataloader=train_dataloader)"
   ]
  },
  {
   "cell_type": "code",
   "execution_count": 26,
   "metadata": {},
   "outputs": [
    {
     "name": "stderr",
     "output_type": "stream",
     "text": [
      "c:\\Users\\Komputer\\AppData\\Local\\Programs\\Python\\Python311\\Lib\\site-packages\\torch\\nn\\modules\\module.py:1518: UserWarning: Implicit dimension choice for softmax has been deprecated. Change the call to include dim=X as an argument.\n",
      "  return self._call_impl(*args, **kwargs)\n"
     ]
    },
    {
     "name": "stdout",
     "output_type": "stream",
     "text": [
      "Accuracy: 0.846\n"
     ]
    }
   ],
   "source": [
    "accuracy_4 = test(model_4, test_dataloader)"
   ]
  },
  {
   "cell_type": "markdown",
   "metadata": {},
   "source": [
    "Dokładność działania sieci z zaimplementowanym early stoppingiem jest nieco gorsza niż w przypadku pierwszego modelu."
   ]
  },
  {
   "cell_type": "markdown",
   "metadata": {},
   "source": [
    "# 9. Dropout"
   ]
  },
  {
   "cell_type": "code",
   "execution_count": 8,
   "metadata": {},
   "outputs": [],
   "source": [
    "class Fcnn_dropout(nn.Module):\n",
    "    def __init__(self):\n",
    "        super().__init__()\n",
    "\n",
    "        self.block_1 = nn.Sequential(\n",
    "            nn.Linear(28*28,256),\n",
    "            nn.ReLU(),\n",
    "            nn.Dropout(0.2),\n",
    "            nn.Linear(256,64),\n",
    "            nn.ReLU(),\n",
    "            nn.Dropout(0.2),\n",
    "            nn.Linear(64,10),\n",
    "            nn.Softmax()\n",
    "        )\n",
    "\n",
    "    def forward(self,x):\n",
    "        x = self.block_1(x)\n",
    "        return x"
   ]
  },
  {
   "cell_type": "code",
   "execution_count": 12,
   "metadata": {},
   "outputs": [
    {
     "name": "stderr",
     "output_type": "stream",
     "text": [
      "/home/luki/Dokumenty/Projekty/sieci_projekt2/venv/lib64/python3.11/site-packages/torch/nn/modules/module.py:1518: UserWarning: Implicit dimension choice for softmax has been deprecated. Change the call to include dim=X as an argument.\n",
      "  return self._call_impl(*args, **kwargs)\n"
     ]
    },
    {
     "name": "stdout",
     "output_type": "stream",
     "text": [
      "epoch: 1, step: 100/157 , loss: 1.7145\n",
      "Epoch: 1, avg_loss = 1.8717453775891832\n",
      "inf 1.8717453775891832 False\n",
      "epoch: 2, step: 100/157 , loss: 1.7169\n",
      "Epoch: 2, avg_loss = 1.680905116591484\n",
      "1.8717453775891832 1.680905116591484 False\n",
      "epoch: 3, step: 100/157 , loss: 1.5644\n",
      "Epoch: 3, avg_loss = 1.5990398552767031\n",
      "1.680905116591484 1.5990398552767031 False\n",
      "epoch: 4, step: 100/157 , loss: 1.6043\n",
      "Epoch: 4, avg_loss = 1.5780316621634611\n",
      "1.5990398552767031 1.5780316621634611 False\n",
      "epoch: 5, step: 100/157 , loss: 1.5463\n",
      "Epoch: 5, avg_loss = 1.5643549937351493\n",
      "1.5780316621634611 1.5643549937351493 False\n",
      "epoch: 6, step: 100/157 , loss: 1.5776\n",
      "Epoch: 6, avg_loss = 1.5572135425676965\n",
      "1.5643549937351493 1.5572135425676965 False\n",
      "epoch: 7, step: 100/157 , loss: 1.5142\n",
      "Epoch: 7, avg_loss = 1.5492765660498553\n",
      "1.5572135425676965 1.5492765660498553 False\n",
      "epoch: 8, step: 100/157 , loss: 1.5089\n",
      "Epoch: 8, avg_loss = 1.5429607045118976\n",
      "1.5492765660498553 1.5429607045118976 False\n",
      "Finished training!\n"
     ]
    }
   ],
   "source": [
    "model_5 = Fcnn_dropout()\n",
    "criterion = nn.CrossEntropyLoss()\n",
    "optimizer = torch.optim.Adam(model_5.parameters())\n",
    "\n",
    "epochs = 8\n",
    "train_es(epochs, model_5, optimizer, criterion, dataloader=train_dataloader)"
   ]
  },
  {
   "cell_type": "code",
   "execution_count": 13,
   "metadata": {},
   "outputs": [
    {
     "name": "stdout",
     "output_type": "stream",
     "text": [
      "Accuracy: 0.942\n"
     ]
    }
   ],
   "source": [
    "accuracy_5 = test(model_5, test_dataloader)"
   ]
  },
  {
   "cell_type": "markdown",
   "metadata": {},
   "source": [
    "Zastosowanie dropoutu (nawet z prawdopodobieństwem wystąpienia ustawionym na stosunkowo niskim poziomie) znacząco pogarsza działanie modelu. "
   ]
  }
 ],
 "metadata": {
  "kernelspec": {
   "display_name": ".venv",
   "language": "python",
   "name": "python3"
  },
  "language_info": {
   "codemirror_mode": {
    "name": "ipython",
    "version": 3
   },
   "file_extension": ".py",
   "mimetype": "text/x-python",
   "name": "python",
   "nbconvert_exporter": "python",
   "pygments_lexer": "ipython3",
   "version": "3.11.7"
  }
 },
 "nbformat": 4,
 "nbformat_minor": 2
}
